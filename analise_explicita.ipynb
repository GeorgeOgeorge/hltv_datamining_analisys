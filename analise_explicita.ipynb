{
  "nbformat": 4,
  "nbformat_minor": 0,
  "metadata": {
    "colab": {
      "name": "analise_explicita.ipynb",
      "provenance": [],
      "collapsed_sections": [
        "CgN0Fb2jUKa9",
        "OSINLhM0aFV_",
        "IndXtSWyaPCX"
      ],
      "authorship_tag": "ABX9TyPMXy9vEazsgsan3N7VyGZv",
      "include_colab_link": true
    },
    "kernelspec": {
      "name": "python3",
      "display_name": "Python 3"
    },
    "language_info": {
      "name": "python"
    }
  },
  "cells": [
    {
      "cell_type": "markdown",
      "metadata": {
        "id": "view-in-github",
        "colab_type": "text"
      },
      "source": [
        "<a href=\"https://colab.research.google.com/github/GeorgeOgeorge/hltv_datamining_analisys/blob/master/analise_explicita.ipynb\" target=\"_parent\"><img src=\"https://colab.research.google.com/assets/colab-badge.svg\" alt=\"Open In Colab\"/></a>"
      ]
    },
    {
      "cell_type": "markdown",
      "source": [
        "# Análise explícita dos dados referentes ao dataset contendo a informação da performance dos jogadores de Counter Strike\n",
        "\n",
        "A análise tem o intuito de responder quatro hipóteses formuladas pelos componentes da dupla\n",
        "\n",
        "*   George Mendonça\n",
        "*   Pedro Ricardo\n",
        "\n",
        "\n",
        "\n",
        "Hipoteses:\n",
        "\n",
        "\n",
        "1.   Quais as colunas mais significativas para ser um bom jogador?\n",
        "2.   Quais os melhores times baseados nas colunas de teamWork?\n",
        "3.   Bons jogadores individuais são bons jogadores em equipe?\n",
        "4.   Quais os melhores times baseados nas estatísticas de rating individual? \n"
      ],
      "metadata": {
        "id": "pybMrOE7T0kK"
      }
    },
    {
      "cell_type": "markdown",
      "source": [
        "## Importando pacotes e abrindo o dataset"
      ],
      "metadata": {
        "id": "CgN0Fb2jUKa9"
      }
    },
    {
      "cell_type": "code",
      "execution_count": 250,
      "metadata": {
        "id": "P3IiPkw34FFS"
      },
      "outputs": [],
      "source": [
        "import matplotlib.pyplot as plt\n",
        "import numpy as np\n",
        "import pandas as pd\n",
        "import seaborn as sb\n",
        "from IPython.display import Image\n",
        "from wordcloud import WordCloud, STOPWORDS\n",
        "pd.options.display.float_format = '{:,.2f}'.format"
      ]
    },
    {
      "cell_type": "code",
      "source": [
        "from google.colab import drive\n",
        "drive.mount('/content/drive/')\n",
        "%cd /content/drive/MyDrive/"
      ],
      "metadata": {
        "id": "Yd9AYQTU4KEn",
        "colab": {
          "base_uri": "https://localhost:8080/"
        },
        "outputId": "3311c3df-fe22-4e5f-86e4-8bd2a430d3da"
      },
      "execution_count": 251,
      "outputs": [
        {
          "output_type": "stream",
          "name": "stdout",
          "text": [
            "Drive already mounted at /content/drive/; to attempt to forcibly remount, call drive.mount(\"/content/drive/\", force_remount=True).\n",
            "/content/drive/MyDrive\n"
          ]
        }
      ]
    },
    {
      "cell_type": "code",
      "source": [
        "df = pd.read_csv(\"players_score.csv\")\n",
        "df"
      ],
      "metadata": {
        "id": "O4nhS1vQ4MgW",
        "colab": {
          "base_uri": "https://localhost:8080/",
          "height": 627
        },
        "outputId": "f676461a-174a-4bb1-ef2b-2a9af6a224eb"
      },
      "execution_count": 252,
      "outputs": [
        {
          "output_type": "execute_result",
          "data": {
            "text/html": [
              "\n",
              "  <div id=\"df-564a4755-5922-4603-98ce-3ddef25df8e3\">\n",
              "    <div class=\"colab-df-container\">\n",
              "      <div>\n",
              "<style scoped>\n",
              "    .dataframe tbody tr th:only-of-type {\n",
              "        vertical-align: middle;\n",
              "    }\n",
              "\n",
              "    .dataframe tbody tr th {\n",
              "        vertical-align: top;\n",
              "    }\n",
              "\n",
              "    .dataframe thead th {\n",
              "        text-align: right;\n",
              "    }\n",
              "</style>\n",
              "<table border=\"1\" class=\"dataframe\">\n",
              "  <thead>\n",
              "    <tr style=\"text-align: right;\">\n",
              "      <th></th>\n",
              "      <th>nickname</th>\n",
              "      <th>name</th>\n",
              "      <th>nationality</th>\n",
              "      <th>team</th>\n",
              "      <th>total_kills</th>\n",
              "      <th>headshot_%</th>\n",
              "      <th>total_deaths</th>\n",
              "      <th>kills/deaths</th>\n",
              "      <th>damage/round</th>\n",
              "      <th>grenade_dmg/round</th>\n",
              "      <th>maps_played</th>\n",
              "      <th>rounds_played</th>\n",
              "      <th>kills/round</th>\n",
              "      <th>assists/round</th>\n",
              "      <th>deaths/round</th>\n",
              "      <th>saved_by_teammate/round</th>\n",
              "      <th>saved_teammates/round</th>\n",
              "      <th>rating</th>\n",
              "    </tr>\n",
              "  </thead>\n",
              "  <tbody>\n",
              "    <tr>\n",
              "      <th>0</th>\n",
              "      <td>ZywOo</td>\n",
              "      <td>Mathieu Herbaut</td>\n",
              "      <td>France</td>\n",
              "      <td>Vitality</td>\n",
              "      <td>2,083,500.00%</td>\n",
              "      <td>4,140.00%</td>\n",
              "      <td>1,508,600.00%</td>\n",
              "      <td>138.00%</td>\n",
              "      <td>8,880.00%</td>\n",
              "      <td>360.00%</td>\n",
              "      <td>93,400.00%</td>\n",
              "      <td>2,450,200.00%</td>\n",
              "      <td>85.00%</td>\n",
              "      <td>13.00%</td>\n",
              "      <td>62.00%</td>\n",
              "      <td>10.00%</td>\n",
              "      <td>12.00%</td>\n",
              "      <td>133.00%</td>\n",
              "    </tr>\n",
              "    <tr>\n",
              "      <th>1</th>\n",
              "      <td>s1mple</td>\n",
              "      <td>Aleksandr Kostyliev</td>\n",
              "      <td>Ukraine</td>\n",
              "      <td>Natus Vincere</td>\n",
              "      <td>3,365,100.00%</td>\n",
              "      <td>4,140.00%</td>\n",
              "      <td>2,511,900.00%</td>\n",
              "      <td>134.00%</td>\n",
              "      <td>8,650.00%</td>\n",
              "      <td>230.00%</td>\n",
              "      <td>149,100.00%</td>\n",
              "      <td>3,933,500.00%</td>\n",
              "      <td>86.00%</td>\n",
              "      <td>10.00%</td>\n",
              "      <td>64.00%</td>\n",
              "      <td>8.00%</td>\n",
              "      <td>11.00%</td>\n",
              "      <td>125.00%</td>\n",
              "    </tr>\n",
              "    <tr>\n",
              "      <th>2</th>\n",
              "      <td>sh1ro</td>\n",
              "      <td>Dmitry Sokolov</td>\n",
              "      <td>Russia</td>\n",
              "      <td>Gambit</td>\n",
              "      <td>1,644,600.00%</td>\n",
              "      <td>2,780.00%</td>\n",
              "      <td>1,142,800.00%</td>\n",
              "      <td>144.00%</td>\n",
              "      <td>7,860.00%</td>\n",
              "      <td>390.00%</td>\n",
              "      <td>80,500.00%</td>\n",
              "      <td>2,138,600.00%</td>\n",
              "      <td>77.00%</td>\n",
              "      <td>11.00%</td>\n",
              "      <td>53.00%</td>\n",
              "      <td>8.00%</td>\n",
              "      <td>11.00%</td>\n",
              "      <td>126.00%</td>\n",
              "    </tr>\n",
              "    <tr>\n",
              "      <th>3</th>\n",
              "      <td>Kaze</td>\n",
              "      <td>Andrew Khong</td>\n",
              "      <td>Malaysia</td>\n",
              "      <td>ViCi</td>\n",
              "      <td>1,641,000.00%</td>\n",
              "      <td>3,030.00%</td>\n",
              "      <td>1,245,100.00%</td>\n",
              "      <td>132.00%</td>\n",
              "      <td>8,050.00%</td>\n",
              "      <td>290.00%</td>\n",
              "      <td>80,100.00%</td>\n",
              "      <td>2,091,100.00%</td>\n",
              "      <td>78.00%</td>\n",
              "      <td>11.00%</td>\n",
              "      <td>60.00%</td>\n",
              "      <td>8.00%</td>\n",
              "      <td>10.00%</td>\n",
              "      <td>119.00%</td>\n",
              "    </tr>\n",
              "    <tr>\n",
              "      <th>4</th>\n",
              "      <td>sterling</td>\n",
              "      <td>Euan Moore</td>\n",
              "      <td>New Zealand</td>\n",
              "      <td>LookingForOrg</td>\n",
              "      <td>1,588,600.00%</td>\n",
              "      <td>3,150.00%</td>\n",
              "      <td>1,189,800.00%</td>\n",
              "      <td>134.00%</td>\n",
              "      <td>7,910.00%</td>\n",
              "      <td>400.00%</td>\n",
              "      <td>78,800.00%</td>\n",
              "      <td>2,020,300.00%</td>\n",
              "      <td>79.00%</td>\n",
              "      <td>10.00%</td>\n",
              "      <td>59.00%</td>\n",
              "      <td>8.00%</td>\n",
              "      <td>11.00%</td>\n",
              "      <td>122.00%</td>\n",
              "    </tr>\n",
              "    <tr>\n",
              "      <th>...</th>\n",
              "      <td>...</td>\n",
              "      <td>...</td>\n",
              "      <td>...</td>\n",
              "      <td>...</td>\n",
              "      <td>...</td>\n",
              "      <td>...</td>\n",
              "      <td>...</td>\n",
              "      <td>...</td>\n",
              "      <td>...</td>\n",
              "      <td>...</td>\n",
              "      <td>...</td>\n",
              "      <td>...</td>\n",
              "      <td>...</td>\n",
              "      <td>...</td>\n",
              "      <td>...</td>\n",
              "      <td>...</td>\n",
              "      <td>...</td>\n",
              "      <td>...</td>\n",
              "    </tr>\n",
              "    <tr>\n",
              "      <th>780</th>\n",
              "      <td>B1ad3</td>\n",
              "      <td>Andrey Gorodenskiy</td>\n",
              "      <td>Ukraine</td>\n",
              "      <td>Natus Vincere</td>\n",
              "      <td>1,347,200.00%</td>\n",
              "      <td>4,190.00%</td>\n",
              "      <td>1,688,000.00%</td>\n",
              "      <td>80.00%</td>\n",
              "      <td>6,650.00%</td>\n",
              "      <td>260.00%</td>\n",
              "      <td>89,900.00%</td>\n",
              "      <td>2,323,200.00%</td>\n",
              "      <td>58.00%</td>\n",
              "      <td>16.00%</td>\n",
              "      <td>73.00%</td>\n",
              "      <td>10.00%</td>\n",
              "      <td>7.00%</td>\n",
              "      <td>83.00%</td>\n",
              "    </tr>\n",
              "    <tr>\n",
              "      <th>781</th>\n",
              "      <td>netrick</td>\n",
              "      <td>Jonas Wenzelsen</td>\n",
              "      <td>Denmark</td>\n",
              "      <td>AGF</td>\n",
              "      <td>674,000.00%</td>\n",
              "      <td>4,820.00%</td>\n",
              "      <td>847,200.00%</td>\n",
              "      <td>80.00%</td>\n",
              "      <td>6,670.00%</td>\n",
              "      <td>660.00%</td>\n",
              "      <td>45,400.00%</td>\n",
              "      <td>1,195,200.00%</td>\n",
              "      <td>56.00%</td>\n",
              "      <td>14.00%</td>\n",
              "      <td>71.00%</td>\n",
              "      <td>11.00%</td>\n",
              "      <td>9.00%</td>\n",
              "      <td>82.00%</td>\n",
              "    </tr>\n",
              "    <tr>\n",
              "      <th>782</th>\n",
              "      <td>HUNDEN</td>\n",
              "      <td>Nicolai Petersen</td>\n",
              "      <td>Denmark</td>\n",
              "      <td>No team</td>\n",
              "      <td>2,247,000.00%</td>\n",
              "      <td>4,870.00%</td>\n",
              "      <td>2,870,800.00%</td>\n",
              "      <td>78.00%</td>\n",
              "      <td>6,440.00%</td>\n",
              "      <td>450.00%</td>\n",
              "      <td>157,800.00%</td>\n",
              "      <td>4,115,300.00%</td>\n",
              "      <td>55.00%</td>\n",
              "      <td>14.00%</td>\n",
              "      <td>70.00%</td>\n",
              "      <td>11.00%</td>\n",
              "      <td>9.00%</td>\n",
              "      <td>81.00%</td>\n",
              "    </tr>\n",
              "    <tr>\n",
              "      <th>783</th>\n",
              "      <td>RuFire</td>\n",
              "      <td>Aleksei Burakov</td>\n",
              "      <td>Russia</td>\n",
              "      <td>VP.Prodigy</td>\n",
              "      <td>551,700.00%</td>\n",
              "      <td>4,800.00%</td>\n",
              "      <td>740,300.00%</td>\n",
              "      <td>75.00%</td>\n",
              "      <td>6,660.00%</td>\n",
              "      <td>470.00%</td>\n",
              "      <td>37,900.00%</td>\n",
              "      <td>1,005,300.00%</td>\n",
              "      <td>55.00%</td>\n",
              "      <td>14.00%</td>\n",
              "      <td>74.00%</td>\n",
              "      <td>9.00%</td>\n",
              "      <td>6.00%</td>\n",
              "      <td>84.00%</td>\n",
              "    </tr>\n",
              "    <tr>\n",
              "      <th>784</th>\n",
              "      <td>OCEAN</td>\n",
              "      <td>Kyle O'Brien</td>\n",
              "      <td>Canada</td>\n",
              "      <td>No team</td>\n",
              "      <td>553,000.00%</td>\n",
              "      <td>4,430.00%</td>\n",
              "      <td>749,200.00%</td>\n",
              "      <td>74.00%</td>\n",
              "      <td>5,970.00%</td>\n",
              "      <td>360.00%</td>\n",
              "      <td>41,000.00%</td>\n",
              "      <td>1,060,200.00%</td>\n",
              "      <td>52.00%</td>\n",
              "      <td>12.00%</td>\n",
              "      <td>71.00%</td>\n",
              "      <td>9.00%</td>\n",
              "      <td>8.00%</td>\n",
              "      <td>77.00%</td>\n",
              "    </tr>\n",
              "  </tbody>\n",
              "</table>\n",
              "<p>785 rows × 18 columns</p>\n",
              "</div>\n",
              "      <button class=\"colab-df-convert\" onclick=\"convertToInteractive('df-564a4755-5922-4603-98ce-3ddef25df8e3')\"\n",
              "              title=\"Convert this dataframe to an interactive table.\"\n",
              "              style=\"display:none;\">\n",
              "        \n",
              "  <svg xmlns=\"http://www.w3.org/2000/svg\" height=\"24px\"viewBox=\"0 0 24 24\"\n",
              "       width=\"24px\">\n",
              "    <path d=\"M0 0h24v24H0V0z\" fill=\"none\"/>\n",
              "    <path d=\"M18.56 5.44l.94 2.06.94-2.06 2.06-.94-2.06-.94-.94-2.06-.94 2.06-2.06.94zm-11 1L8.5 8.5l.94-2.06 2.06-.94-2.06-.94L8.5 2.5l-.94 2.06-2.06.94zm10 10l.94 2.06.94-2.06 2.06-.94-2.06-.94-.94-2.06-.94 2.06-2.06.94z\"/><path d=\"M17.41 7.96l-1.37-1.37c-.4-.4-.92-.59-1.43-.59-.52 0-1.04.2-1.43.59L10.3 9.45l-7.72 7.72c-.78.78-.78 2.05 0 2.83L4 21.41c.39.39.9.59 1.41.59.51 0 1.02-.2 1.41-.59l7.78-7.78 2.81-2.81c.8-.78.8-2.07 0-2.86zM5.41 20L4 18.59l7.72-7.72 1.47 1.35L5.41 20z\"/>\n",
              "  </svg>\n",
              "      </button>\n",
              "      \n",
              "  <style>\n",
              "    .colab-df-container {\n",
              "      display:flex;\n",
              "      flex-wrap:wrap;\n",
              "      gap: 12px;\n",
              "    }\n",
              "\n",
              "    .colab-df-convert {\n",
              "      background-color: #E8F0FE;\n",
              "      border: none;\n",
              "      border-radius: 50%;\n",
              "      cursor: pointer;\n",
              "      display: none;\n",
              "      fill: #1967D2;\n",
              "      height: 32px;\n",
              "      padding: 0 0 0 0;\n",
              "      width: 32px;\n",
              "    }\n",
              "\n",
              "    .colab-df-convert:hover {\n",
              "      background-color: #E2EBFA;\n",
              "      box-shadow: 0px 1px 2px rgba(60, 64, 67, 0.3), 0px 1px 3px 1px rgba(60, 64, 67, 0.15);\n",
              "      fill: #174EA6;\n",
              "    }\n",
              "\n",
              "    [theme=dark] .colab-df-convert {\n",
              "      background-color: #3B4455;\n",
              "      fill: #D2E3FC;\n",
              "    }\n",
              "\n",
              "    [theme=dark] .colab-df-convert:hover {\n",
              "      background-color: #434B5C;\n",
              "      box-shadow: 0px 1px 3px 1px rgba(0, 0, 0, 0.15);\n",
              "      filter: drop-shadow(0px 1px 2px rgba(0, 0, 0, 0.3));\n",
              "      fill: #FFFFFF;\n",
              "    }\n",
              "  </style>\n",
              "\n",
              "      <script>\n",
              "        const buttonEl =\n",
              "          document.querySelector('#df-564a4755-5922-4603-98ce-3ddef25df8e3 button.colab-df-convert');\n",
              "        buttonEl.style.display =\n",
              "          google.colab.kernel.accessAllowed ? 'block' : 'none';\n",
              "\n",
              "        async function convertToInteractive(key) {\n",
              "          const element = document.querySelector('#df-564a4755-5922-4603-98ce-3ddef25df8e3');\n",
              "          const dataTable =\n",
              "            await google.colab.kernel.invokeFunction('convertToInteractive',\n",
              "                                                     [key], {});\n",
              "          if (!dataTable) return;\n",
              "\n",
              "          const docLinkHtml = 'Like what you see? Visit the ' +\n",
              "            '<a target=\"_blank\" href=https://colab.research.google.com/notebooks/data_table.ipynb>data table notebook</a>'\n",
              "            + ' to learn more about interactive tables.';\n",
              "          element.innerHTML = '';\n",
              "          dataTable['output_type'] = 'display_data';\n",
              "          await google.colab.output.renderOutput(dataTable, element);\n",
              "          const docLink = document.createElement('div');\n",
              "          docLink.innerHTML = docLinkHtml;\n",
              "          element.appendChild(docLink);\n",
              "        }\n",
              "      </script>\n",
              "    </div>\n",
              "  </div>\n",
              "  "
            ],
            "text/plain": [
              "     nickname                 name  ... saved_teammates/round  rating\n",
              "0       ZywOo      Mathieu Herbaut  ...                12.00% 133.00%\n",
              "1      s1mple  Aleksandr Kostyliev  ...                11.00% 125.00%\n",
              "2       sh1ro       Dmitry Sokolov  ...                11.00% 126.00%\n",
              "3        Kaze         Andrew Khong  ...                10.00% 119.00%\n",
              "4    sterling           Euan Moore  ...                11.00% 122.00%\n",
              "..        ...                  ...  ...                   ...     ...\n",
              "780     B1ad3   Andrey Gorodenskiy  ...                 7.00%  83.00%\n",
              "781   netrick      Jonas Wenzelsen  ...                 9.00%  82.00%\n",
              "782    HUNDEN     Nicolai Petersen  ...                 9.00%  81.00%\n",
              "783    RuFire      Aleksei Burakov  ...                 6.00%  84.00%\n",
              "784     OCEAN         Kyle O'Brien  ...                 8.00%  77.00%\n",
              "\n",
              "[785 rows x 18 columns]"
            ]
          },
          "metadata": {},
          "execution_count": 252
        }
      ]
    },
    {
      "cell_type": "markdown",
      "source": [
        "\n",
        "## Quais as colunas mais significativas para ser um bom jogador?\n",
        "\n",
        "Conclusão:\n",
        "\n",
        "\n",
        "*   **headshot_%** : Aponta a capacidade de precisão e reflexo de um jogador.\n",
        "*   **kills/deaths**: Uma média que é calculada a partir do número de mortes e kills, percorrer de todo o historico do jogador, um K/D positivo indica que o jogador é alguém experiente.\n",
        "*   **kills/round**: Um valor alto de K/R indica uma boa taxa de conversão por partida, no contexto dos jogos esse valor indica que para cada partida jogada, o jogador elimina certa quantidade de inimigos antes de ser eliminado, por conseqüência, ajudando seus companheiros de equipe.\n",
        "*   **assists/round**: A taxa de assistência é algo secundário para um jogador, pois consideramos que o objetivo do jogador é pessoalmente eliminar os inimigos, porem não deixa de ser uma metrica importante nos jogos em equipe.\n",
        "*   **deaths/round**: Valor que indica a quantidade de mortes do jogador por partida, quão menor for seu valor, melhor será o jogador pois indica que é capaz de sobreviver por mais tempo. Tem comportamento inversamente proporcional à taxa K/D\n"
      ],
      "metadata": {
        "id": "OSINLhM0aFV_"
      }
    },
    {
      "cell_type": "code",
      "source": [
        "#Fazendo mapa de calor de correlação da metricas selecionadas \n",
        "metricas_jogadores = df[['headshot_%', 'kills/deaths', 'kills/round', 'assists/round', 'deaths/round']]\n",
        "corr = metricas_jogadores.select_dtypes(exclude='object').corr()\n",
        "sb.heatmap(corr, annot=True, fmt=\".1f\")"
      ],
      "metadata": {
        "colab": {
          "base_uri": "https://localhost:8080/",
          "height": 343
        },
        "id": "RslkEAG6aqPW",
        "outputId": "a1dbcefc-2301-4066-9c47-f1412d14d5f5"
      },
      "execution_count": 253,
      "outputs": [
        {
          "output_type": "execute_result",
          "data": {
            "text/plain": [
              "<matplotlib.axes._subplots.AxesSubplot at 0x7fb87123ba90>"
            ]
          },
          "metadata": {},
          "execution_count": 253
        },
        {
          "output_type": "display_data",
          "data": {
            "image/png": "[encoded data removed]",
            "text/plain": [
              "<Figure size 432x288 with 2 Axes>"
            ]
          },
          "metadata": {
            "needs_background": "light"
          }
        }
      ]
    },
    {
      "cell_type": "markdown",
      "source": [
        "### Exemplo correlação positiva"
      ],
      "metadata": {
        "id": "cWdnBFUxhq9g"
      }
    },
    {
      "cell_type": "code",
      "source": [
        "sb.relplot(data=metricas_jogadores, x='kills/deaths', y='kills/round')"
      ],
      "metadata": {
        "colab": {
          "base_uri": "https://localhost:8080/",
          "height": 386
        },
        "id": "XFC42TWnf7fT",
        "outputId": "27388fae-5410-4905-9adb-84d6b4aa92ef"
      },
      "execution_count": 254,
      "outputs": [
        {
          "output_type": "execute_result",
          "data": {
            "text/plain": [
              "<seaborn.axisgrid.FacetGrid at 0x7fb8711e1cd0>"
            ]
          },
          "metadata": {},
          "execution_count": 254
        },
        {
          "output_type": "display_data",
          "data": {
            "image/png": "[encoded data removed]",
            "text/plain": [
              "<Figure size 360x360 with 1 Axes>"
            ]
          },
          "metadata": {
            "needs_background": "light"
          }
        }
      ]
    },
    {
      "cell_type": "markdown",
      "source": [
        "### Exemplo correlação negativa"
      ],
      "metadata": {
        "id": "fkVnZnmKhuUw"
      }
    },
    {
      "cell_type": "code",
      "source": [
        "sb.relplot(data=metricas_jogadores, x='kills/deaths', y='deaths/round')"
      ],
      "metadata": {
        "colab": {
          "base_uri": "https://localhost:8080/",
          "height": 386
        },
        "id": "4B703meChXE5",
        "outputId": "b1da11c9-f729-49ae-dff2-866c27a870b3"
      },
      "execution_count": 255,
      "outputs": [
        {
          "output_type": "execute_result",
          "data": {
            "text/plain": [
              "<seaborn.axisgrid.FacetGrid at 0x7fb8710862d0>"
            ]
          },
          "metadata": {},
          "execution_count": 255
        },
        {
          "output_type": "display_data",
          "data": {
            "image/png": "[encoded data removed]",
            "text/plain": [
              "<Figure size 360x360 with 1 Axes>"
            ]
          },
          "metadata": {
            "needs_background": "light"
          }
        }
      ]
    },
    {
      "cell_type": "markdown",
      "source": [
        "### Exemplo sem correlação"
      ],
      "metadata": {
        "id": "NPq9h0mzh1z4"
      }
    },
    {
      "cell_type": "code",
      "source": [
        "sb.relplot(data=metricas_jogadores, x='assists/round', y='kills/round')"
      ],
      "metadata": {
        "colab": {
          "base_uri": "https://localhost:8080/",
          "height": 386
        },
        "id": "FO3sgC9Dhdbg",
        "outputId": "7cd32d2d-d28e-4ef2-9dee-470b6283b589"
      },
      "execution_count": 256,
      "outputs": [
        {
          "output_type": "execute_result",
          "data": {
            "text/plain": [
              "<seaborn.axisgrid.FacetGrid at 0x7fb871044590>"
            ]
          },
          "metadata": {},
          "execution_count": 256
        },
        {
          "output_type": "display_data",
          "data": {
            "image/png": "[encoded data removed]",
            "text/plain": [
              "<Figure size 360x360 with 1 Axes>"
            ]
          },
          "metadata": {
            "needs_background": "light"
          }
        }
      ]
    },
    {
      "cell_type": "markdown",
      "source": [
        "## Quais os melhores times baseados nas colunas de teamWork?\n",
        "\n",
        "Os times com melhor performance na categoria de trabalho em equipe são:\n",
        "\n",
        "\n",
        "1. Liquid\n",
        "2. Extra Salt\n",
        "3. Heroic\n",
        "4. G2\n",
        "5. MIBR\n",
        "\n",
        "\n",
        "obs: As métricas utilizadas foram\n",
        "* assistencias/round\n",
        "* salvo por parceiro de time/round\n",
        "* salvou parceiro de time/round\n",
        "\n",
        "obs 2: 307 jogadores não possuíam time"
      ],
      "metadata": {
        "id": "IndXtSWyaPCX"
      }
    },
    {
      "cell_type": "code",
      "source": [
        "# selecionando apenas jogadores com time\n",
        "jogadores_com_time = df[df.team != \"No team\"]\n",
        "# dropando colunas desnecessarias\n",
        "jogadores_com_time = jogadores_com_time.drop(columns=['nickname', 'name', 'nationality'])\n",
        "# crinado lista de jogadores para filtragem futura\n",
        "lista_times = []\n",
        "# buscando jogador por jogador e somando seus dados para uma linha contendo a soma de todos os dados do time\n",
        "for team in jogadores_com_time['team']:\n",
        "  lista_times.append(jogadores_com_time.loc[(jogadores_com_time['team'] == team)].sum())\n",
        "df_times = pd.DataFrame(lista_times, columns= ['team', 'total_kills', 'headshot_%', 'total_deaths', 'kills/deaths', 'damage/round', 'grenade_dmg/round',\n",
        "                                               'maps_played', 'rounds_played', 'kills/round', 'assists/round', 'deaths/round', 'saved_by_teammate/round',\n",
        "                                               'saved_teammates/round', 'rating'])\n",
        "# dropando linhas duplicadas\n",
        "df_times = df_times.drop_duplicates(subset=['team'])"
      ],
      "metadata": {
        "id": "_VjIgXOmarDF"
      },
      "execution_count": 257,
      "outputs": []
    },
    {
      "cell_type": "code",
      "source": [
        "# selecionando apenas as colunas importantes para a análise\n",
        "df_times = df_times[['team', 'assists/round', 'saved_by_teammate/round', 'saved_teammates/round']]\n",
        "df_times.describe()"
      ],
      "metadata": {
        "colab": {
          "base_uri": "https://localhost:8080/",
          "height": 300
        },
        "id": "9I0FVYxPxBwb",
        "outputId": "6b23efca-2240-4a33-de08-7957cb758e99"
      },
      "execution_count": 258,
      "outputs": [
        {
          "output_type": "execute_result",
          "data": {
            "text/html": [
              "\n",
              "  <div id=\"df-96d3fab3-e6dc-4720-b3d2-dd873452ac81\">\n",
              "    <div class=\"colab-df-container\">\n",
              "      <div>\n",
              "<style scoped>\n",
              "    .dataframe tbody tr th:only-of-type {\n",
              "        vertical-align: middle;\n",
              "    }\n",
              "\n",
              "    .dataframe tbody tr th {\n",
              "        vertical-align: top;\n",
              "    }\n",
              "\n",
              "    .dataframe thead th {\n",
              "        text-align: right;\n",
              "    }\n",
              "</style>\n",
              "<table border=\"1\" class=\"dataframe\">\n",
              "  <thead>\n",
              "    <tr style=\"text-align: right;\">\n",
              "      <th></th>\n",
              "      <th>assists/round</th>\n",
              "      <th>saved_by_teammate/round</th>\n",
              "      <th>saved_teammates/round</th>\n",
              "    </tr>\n",
              "  </thead>\n",
              "  <tbody>\n",
              "    <tr>\n",
              "      <th>count</th>\n",
              "      <td>17,300.00%</td>\n",
              "      <td>17,300.00%</td>\n",
              "      <td>17,300.00%</td>\n",
              "    </tr>\n",
              "    <tr>\n",
              "      <th>mean</th>\n",
              "      <td>35.91%</td>\n",
              "      <td>26.35%</td>\n",
              "      <td>26.65%</td>\n",
              "    </tr>\n",
              "    <tr>\n",
              "      <th>std</th>\n",
              "      <td>22.29%</td>\n",
              "      <td>16.07%</td>\n",
              "      <td>16.67%</td>\n",
              "    </tr>\n",
              "    <tr>\n",
              "      <th>min</th>\n",
              "      <td>9.00%</td>\n",
              "      <td>7.00%</td>\n",
              "      <td>6.00%</td>\n",
              "    </tr>\n",
              "    <tr>\n",
              "      <th>25%</th>\n",
              "      <td>14.00%</td>\n",
              "      <td>10.00%</td>\n",
              "      <td>10.00%</td>\n",
              "    </tr>\n",
              "    <tr>\n",
              "      <th>50%</th>\n",
              "      <td>28.00%</td>\n",
              "      <td>22.00%</td>\n",
              "      <td>21.00%</td>\n",
              "    </tr>\n",
              "    <tr>\n",
              "      <th>75%</th>\n",
              "      <td>53.00%</td>\n",
              "      <td>39.00%</td>\n",
              "      <td>39.00%</td>\n",
              "    </tr>\n",
              "    <tr>\n",
              "      <th>max</th>\n",
              "      <td>97.00%</td>\n",
              "      <td>70.00%</td>\n",
              "      <td>74.00%</td>\n",
              "    </tr>\n",
              "  </tbody>\n",
              "</table>\n",
              "</div>\n",
              "      <button class=\"colab-df-convert\" onclick=\"convertToInteractive('df-96d3fab3-e6dc-4720-b3d2-dd873452ac81')\"\n",
              "              title=\"Convert this dataframe to an interactive table.\"\n",
              "              style=\"display:none;\">\n",
              "        \n",
              "  <svg xmlns=\"http://www.w3.org/2000/svg\" height=\"24px\"viewBox=\"0 0 24 24\"\n",
              "       width=\"24px\">\n",
              "    <path d=\"M0 0h24v24H0V0z\" fill=\"none\"/>\n",
              "    <path d=\"M18.56 5.44l.94 2.06.94-2.06 2.06-.94-2.06-.94-.94-2.06-.94 2.06-2.06.94zm-11 1L8.5 8.5l.94-2.06 2.06-.94-2.06-.94L8.5 2.5l-.94 2.06-2.06.94zm10 10l.94 2.06.94-2.06 2.06-.94-2.06-.94-.94-2.06-.94 2.06-2.06.94z\"/><path d=\"M17.41 7.96l-1.37-1.37c-.4-.4-.92-.59-1.43-.59-.52 0-1.04.2-1.43.59L10.3 9.45l-7.72 7.72c-.78.78-.78 2.05 0 2.83L4 21.41c.39.39.9.59 1.41.59.51 0 1.02-.2 1.41-.59l7.78-7.78 2.81-2.81c.8-.78.8-2.07 0-2.86zM5.41 20L4 18.59l7.72-7.72 1.47 1.35L5.41 20z\"/>\n",
              "  </svg>\n",
              "      </button>\n",
              "      \n",
              "  <style>\n",
              "    .colab-df-container {\n",
              "      display:flex;\n",
              "      flex-wrap:wrap;\n",
              "      gap: 12px;\n",
              "    }\n",
              "\n",
              "    .colab-df-convert {\n",
              "      background-color: #E8F0FE;\n",
              "      border: none;\n",
              "      border-radius: 50%;\n",
              "      cursor: pointer;\n",
              "      display: none;\n",
              "      fill: #1967D2;\n",
              "      height: 32px;\n",
              "      padding: 0 0 0 0;\n",
              "      width: 32px;\n",
              "    }\n",
              "\n",
              "    .colab-df-convert:hover {\n",
              "      background-color: #E2EBFA;\n",
              "      box-shadow: 0px 1px 2px rgba(60, 64, 67, 0.3), 0px 1px 3px 1px rgba(60, 64, 67, 0.15);\n",
              "      fill: #174EA6;\n",
              "    }\n",
              "\n",
              "    [theme=dark] .colab-df-convert {\n",
              "      background-color: #3B4455;\n",
              "      fill: #D2E3FC;\n",
              "    }\n",
              "\n",
              "    [theme=dark] .colab-df-convert:hover {\n",
              "      background-color: #434B5C;\n",
              "      box-shadow: 0px 1px 3px 1px rgba(0, 0, 0, 0.15);\n",
              "      filter: drop-shadow(0px 1px 2px rgba(0, 0, 0, 0.3));\n",
              "      fill: #FFFFFF;\n",
              "    }\n",
              "  </style>\n",
              "\n",
              "      <script>\n",
              "        const buttonEl =\n",
              "          document.querySelector('#df-96d3fab3-e6dc-4720-b3d2-dd873452ac81 button.colab-df-convert');\n",
              "        buttonEl.style.display =\n",
              "          google.colab.kernel.accessAllowed ? 'block' : 'none';\n",
              "\n",
              "        async function convertToInteractive(key) {\n",
              "          const element = document.querySelector('#df-96d3fab3-e6dc-4720-b3d2-dd873452ac81');\n",
              "          const dataTable =\n",
              "            await google.colab.kernel.invokeFunction('convertToInteractive',\n",
              "                                                     [key], {});\n",
              "          if (!dataTable) return;\n",
              "\n",
              "          const docLinkHtml = 'Like what you see? Visit the ' +\n",
              "            '<a target=\"_blank\" href=https://colab.research.google.com/notebooks/data_table.ipynb>data table notebook</a>'\n",
              "            + ' to learn more about interactive tables.';\n",
              "          element.innerHTML = '';\n",
              "          dataTable['output_type'] = 'display_data';\n",
              "          await google.colab.output.renderOutput(dataTable, element);\n",
              "          const docLink = document.createElement('div');\n",
              "          docLink.innerHTML = docLinkHtml;\n",
              "          element.appendChild(docLink);\n",
              "        }\n",
              "      </script>\n",
              "    </div>\n",
              "  </div>\n",
              "  "
            ],
            "text/plain": [
              "       assists/round  saved_by_teammate/round  saved_teammates/round\n",
              "count     17,300.00%               17,300.00%             17,300.00%\n",
              "mean          35.91%                   26.35%                 26.65%\n",
              "std           22.29%                   16.07%                 16.67%\n",
              "min            9.00%                    7.00%                  6.00%\n",
              "25%           14.00%                   10.00%                 10.00%\n",
              "50%           28.00%                   22.00%                 21.00%\n",
              "75%           53.00%                   39.00%                 39.00%\n",
              "max           97.00%                   70.00%                 74.00%"
            ]
          },
          "metadata": {},
          "execution_count": 258
        }
      ]
    },
    {
      "cell_type": "code",
      "source": [
        "# calculando a média final de cada time \n",
        "direita = df_times[['assists/round', 'saved_by_teammate/round', 'saved_teammates/round']].mean(axis=1)\n",
        "direita = direita.to_frame()\n",
        "direita = direita.rename(columns={0: \"rating\"}, inplace = False)\n",
        "times_rank = df_times[['team']].join(direita)\n",
        "times_rank.sort_values(by=['rating'], ascending=False)"
      ],
      "metadata": {
        "colab": {
          "base_uri": "https://localhost:8080/",
          "height": 424
        },
        "id": "rqFtwC3Q28K8",
        "outputId": "1360396c-9006-4ca2-8d01-ec8ccf1da020"
      },
      "execution_count": 259,
      "outputs": [
        {
          "output_type": "execute_result",
          "data": {
            "text/html": [
              "\n",
              "  <div id=\"df-030a6df9-600a-4543-ae3c-2e1f82d6547c\">\n",
              "    <div class=\"colab-df-container\">\n",
              "      <div>\n",
              "<style scoped>\n",
              "    .dataframe tbody tr th:only-of-type {\n",
              "        vertical-align: middle;\n",
              "    }\n",
              "\n",
              "    .dataframe tbody tr th {\n",
              "        vertical-align: top;\n",
              "    }\n",
              "\n",
              "    .dataframe thead th {\n",
              "        text-align: right;\n",
              "    }\n",
              "</style>\n",
              "<table border=\"1\" class=\"dataframe\">\n",
              "  <thead>\n",
              "    <tr style=\"text-align: right;\">\n",
              "      <th></th>\n",
              "      <th>team</th>\n",
              "      <th>rating</th>\n",
              "    </tr>\n",
              "  </thead>\n",
              "  <tbody>\n",
              "    <tr>\n",
              "      <th>39</th>\n",
              "      <td>LiquidLiquidLiquidLiquidLiquidLiquidLiquid</td>\n",
              "      <td>80.33%</td>\n",
              "    </tr>\n",
              "    <tr>\n",
              "      <th>58</th>\n",
              "      <td>Extra SaltExtra SaltExtra SaltExtra SaltExtra ...</td>\n",
              "      <td>70.67%</td>\n",
              "    </tr>\n",
              "    <tr>\n",
              "      <th>144</th>\n",
              "      <td>HeroicHeroicHeroicHeroicHeroicHeroic</td>\n",
              "      <td>66.67%</td>\n",
              "    </tr>\n",
              "    <tr>\n",
              "      <th>13</th>\n",
              "      <td>G2G2G2G2G2G2</td>\n",
              "      <td>65.00%</td>\n",
              "    </tr>\n",
              "    <tr>\n",
              "      <th>76</th>\n",
              "      <td>MIBRMIBRMIBRMIBRMIBRMIBR</td>\n",
              "      <td>65.00%</td>\n",
              "    </tr>\n",
              "    <tr>\n",
              "      <th>...</th>\n",
              "      <td>...</td>\n",
              "      <td>...</td>\n",
              "    </tr>\n",
              "    <tr>\n",
              "      <th>86</th>\n",
              "      <td>GamerS1337</td>\n",
              "      <td>9.67%</td>\n",
              "    </tr>\n",
              "    <tr>\n",
              "      <th>111</th>\n",
              "      <td>Let's Quit</td>\n",
              "      <td>9.00%</td>\n",
              "    </tr>\n",
              "    <tr>\n",
              "      <th>31</th>\n",
              "      <td>HellRaisers</td>\n",
              "      <td>8.67%</td>\n",
              "    </tr>\n",
              "    <tr>\n",
              "      <th>227</th>\n",
              "      <td>ex-Maknitude</td>\n",
              "      <td>8.67%</td>\n",
              "    </tr>\n",
              "    <tr>\n",
              "      <th>179</th>\n",
              "      <td>Young Ninjas</td>\n",
              "      <td>8.67%</td>\n",
              "    </tr>\n",
              "  </tbody>\n",
              "</table>\n",
              "<p>173 rows × 2 columns</p>\n",
              "</div>\n",
              "      <button class=\"colab-df-convert\" onclick=\"convertToInteractive('df-030a6df9-600a-4543-ae3c-2e1f82d6547c')\"\n",
              "              title=\"Convert this dataframe to an interactive table.\"\n",
              "              style=\"display:none;\">\n",
              "        \n",
              "  <svg xmlns=\"http://www.w3.org/2000/svg\" height=\"24px\"viewBox=\"0 0 24 24\"\n",
              "       width=\"24px\">\n",
              "    <path d=\"M0 0h24v24H0V0z\" fill=\"none\"/>\n",
              "    <path d=\"M18.56 5.44l.94 2.06.94-2.06 2.06-.94-2.06-.94-.94-2.06-.94 2.06-2.06.94zm-11 1L8.5 8.5l.94-2.06 2.06-.94-2.06-.94L8.5 2.5l-.94 2.06-2.06.94zm10 10l.94 2.06.94-2.06 2.06-.94-2.06-.94-.94-2.06-.94 2.06-2.06.94z\"/><path d=\"M17.41 7.96l-1.37-1.37c-.4-.4-.92-.59-1.43-.59-.52 0-1.04.2-1.43.59L10.3 9.45l-7.72 7.72c-.78.78-.78 2.05 0 2.83L4 21.41c.39.39.9.59 1.41.59.51 0 1.02-.2 1.41-.59l7.78-7.78 2.81-2.81c.8-.78.8-2.07 0-2.86zM5.41 20L4 18.59l7.72-7.72 1.47 1.35L5.41 20z\"/>\n",
              "  </svg>\n",
              "      </button>\n",
              "      \n",
              "  <style>\n",
              "    .colab-df-container {\n",
              "      display:flex;\n",
              "      flex-wrap:wrap;\n",
              "      gap: 12px;\n",
              "    }\n",
              "\n",
              "    .colab-df-convert {\n",
              "      background-color: #E8F0FE;\n",
              "      border: none;\n",
              "      border-radius: 50%;\n",
              "      cursor: pointer;\n",
              "      display: none;\n",
              "      fill: #1967D2;\n",
              "      height: 32px;\n",
              "      padding: 0 0 0 0;\n",
              "      width: 32px;\n",
              "    }\n",
              "\n",
              "    .colab-df-convert:hover {\n",
              "      background-color: #E2EBFA;\n",
              "      box-shadow: 0px 1px 2px rgba(60, 64, 67, 0.3), 0px 1px 3px 1px rgba(60, 64, 67, 0.15);\n",
              "      fill: #174EA6;\n",
              "    }\n",
              "\n",
              "    [theme=dark] .colab-df-convert {\n",
              "      background-color: #3B4455;\n",
              "      fill: #D2E3FC;\n",
              "    }\n",
              "\n",
              "    [theme=dark] .colab-df-convert:hover {\n",
              "      background-color: #434B5C;\n",
              "      box-shadow: 0px 1px 3px 1px rgba(0, 0, 0, 0.15);\n",
              "      filter: drop-shadow(0px 1px 2px rgba(0, 0, 0, 0.3));\n",
              "      fill: #FFFFFF;\n",
              "    }\n",
              "  </style>\n",
              "\n",
              "      <script>\n",
              "        const buttonEl =\n",
              "          document.querySelector('#df-030a6df9-600a-4543-ae3c-2e1f82d6547c button.colab-df-convert');\n",
              "        buttonEl.style.display =\n",
              "          google.colab.kernel.accessAllowed ? 'block' : 'none';\n",
              "\n",
              "        async function convertToInteractive(key) {\n",
              "          const element = document.querySelector('#df-030a6df9-600a-4543-ae3c-2e1f82d6547c');\n",
              "          const dataTable =\n",
              "            await google.colab.kernel.invokeFunction('convertToInteractive',\n",
              "                                                     [key], {});\n",
              "          if (!dataTable) return;\n",
              "\n",
              "          const docLinkHtml = 'Like what you see? Visit the ' +\n",
              "            '<a target=\"_blank\" href=https://colab.research.google.com/notebooks/data_table.ipynb>data table notebook</a>'\n",
              "            + ' to learn more about interactive tables.';\n",
              "          element.innerHTML = '';\n",
              "          dataTable['output_type'] = 'display_data';\n",
              "          await google.colab.output.renderOutput(dataTable, element);\n",
              "          const docLink = document.createElement('div');\n",
              "          docLink.innerHTML = docLinkHtml;\n",
              "          element.appendChild(docLink);\n",
              "        }\n",
              "      </script>\n",
              "    </div>\n",
              "  </div>\n",
              "  "
            ],
            "text/plain": [
              "                                                  team  rating\n",
              "39          LiquidLiquidLiquidLiquidLiquidLiquidLiquid  80.33%\n",
              "58   Extra SaltExtra SaltExtra SaltExtra SaltExtra ...  70.67%\n",
              "144               HeroicHeroicHeroicHeroicHeroicHeroic  66.67%\n",
              "13                                        G2G2G2G2G2G2  65.00%\n",
              "76                            MIBRMIBRMIBRMIBRMIBRMIBR  65.00%\n",
              "..                                                 ...     ...\n",
              "86                                          GamerS1337   9.67%\n",
              "111                                         Let's Quit   9.00%\n",
              "31                                         HellRaisers   8.67%\n",
              "227                                       ex-Maknitude   8.67%\n",
              "179                                       Young Ninjas   8.67%\n",
              "\n",
              "[173 rows x 2 columns]"
            ]
          },
          "metadata": {},
          "execution_count": 259
        }
      ]
    },
    {
      "cell_type": "code",
      "source": [
        "times_rank['rating'].plot.box(grid = True)"
      ],
      "metadata": {
        "colab": {
          "base_uri": "https://localhost:8080/",
          "height": 282
        },
        "id": "7jIsLEbC95BP",
        "outputId": "a27aa141-da70-46d7-f6b0-bb8db6f5d487"
      },
      "execution_count": 260,
      "outputs": [
        {
          "output_type": "execute_result",
          "data": {
            "text/plain": [
              "<matplotlib.axes._subplots.AxesSubplot at 0x7fb871e00290>"
            ]
          },
          "metadata": {},
          "execution_count": 260
        },
        {
          "output_type": "display_data",
          "data": {
            "image/png": "[encoded data removed]",
            "text/plain": [
              "<Figure size 432x288 with 1 Axes>"
            ]
          },
          "metadata": {
            "needs_background": "light"
          }
        }
      ]
    },
    {
      "cell_type": "code",
      "source": [
        "times_rank['rating'].plot.kde(title='Rating')"
      ],
      "metadata": {
        "colab": {
          "base_uri": "https://localhost:8080/",
          "height": 298
        },
        "id": "xXL35NNTAhEk",
        "outputId": "9a051c62-8645-4db0-dfc1-84488014ff4a"
      },
      "execution_count": 261,
      "outputs": [
        {
          "output_type": "execute_result",
          "data": {
            "text/plain": [
              "<matplotlib.axes._subplots.AxesSubplot at 0x7fb87127c0d0>"
            ]
          },
          "metadata": {},
          "execution_count": 261
        },
        {
          "output_type": "display_data",
          "data": {
            "image/png": "[encoded data removed]",
            "text/plain": [
              "<Figure size 432x288 with 1 Axes>"
            ]
          },
          "metadata": {
            "needs_background": "light"
          }
        }
      ]
    },
    {
      "cell_type": "markdown",
      "source": [
        "## Bons jogadores individuais são bons jogadores em equipe?\n",
        "\n",
        "Concluímos que a maioria dos jogadores com maior ranking (foram selecionados os 100 melhores), possuem uma performance satisfatória se compararmos suas capacidades solo ou em equipe. Vemos que esses valores são diretamente proporcionais, algo que vem como conseqüência da cena profissional de um esporte eletrônico.\n",
        "\n",
        "Colunas utilizadas para determinar a performance solo:\n",
        "* headshot % \n",
        "* kills/deaths \n",
        "* damage/round \n",
        "* grenade_dmg/round\n",
        "* kills/round\n",
        "\n",
        "Colunas utilizadas para determinar a performance em equipe:\n",
        "\n",
        "* assists/round\n",
        "* deaths/round \n",
        "* saved_by_teammate/round\n",
        "* saved_teammates/round"
      ],
      "metadata": {
        "id": "vWZZp5I4UZMa"
      }
    },
    {
      "cell_type": "code",
      "source": [
        "df_jogadores = df.sort_values(by=['rating'], ascending=False).head(100)[['nickname']]\n",
        "df_individuais = df.sort_values(by=['rating'], ascending=False).head(100)[['headshot_%', 'kills/deaths', 'damage/round', 'grenade_dmg/round', 'kills/round']]\n",
        "df_equipe = df.sort_values(by=['rating'], ascending=False).head(100)[['assists/round', 'deaths/round', 'saved_by_teammate/round', 'saved_teammates/round']]"
      ],
      "metadata": {
        "id": "qVBvq0gWU5La"
      },
      "execution_count": 314,
      "outputs": []
    },
    {
      "cell_type": "code",
      "source": [
        "# fazendo a média dos valores que representam a performance individual do jogador\n",
        "df_individuais = df_individuais[['headshot_%', 'kills/deaths', 'damage/round', 'grenade_dmg/round', 'kills/round']].mean(axis=1)\n",
        "df_individuais = df_individuais.to_frame()\n",
        "df_individuais = df_individuais.rename(columns={0: \"solo\"}, inplace = False)\n",
        "\n",
        "# fazendo a média dos valores que representam a performance em time do jogador\n",
        "df_equipe = df_equipe[['assists/round', 'deaths/round', 'saved_by_teammate/round', 'saved_teammates/round']].mean(axis=1)\n",
        "df_equipe = df_equipe.to_frame()\n",
        "df_equipe = df_equipe.rename(columns={0: \"team_work\"}, inplace = False)\n",
        "\n",
        "# convertendo os valores da performance do jogador para %\n",
        "df_equipe = pd.Series([\"{0:.2f}\".format(val * 100) for val in df_equipe['team_work']], index = df_equipe.index)\n",
        "df_equipe = df_equipe.to_frame()\n",
        "df_equipe = df_equipe.rename(columns={0: 'team_work'}, inplace = False)\n",
        "df_equipe = df_equipe['team_work'].astype(float)"
      ],
      "metadata": {
        "id": "yqwyfFHDYWi_"
      },
      "execution_count": 315,
      "outputs": []
    },
    {
      "cell_type": "code",
      "source": [
        "# unindo colunas caluladas para cada jogador em um unico dataframe \n",
        "df_jogadores = df_jogadores.join(df_individuais)\n",
        "df_jogadores = df_jogadores.join(df_equipe)\n",
        "df_jogadores.sort_values(by=['team_work'], ascending=False).head(100)"
      ],
      "metadata": {
        "colab": {
          "base_uri": "https://localhost:8080/",
          "height": 424
        },
        "id": "WgMmEDHkbant",
        "outputId": "45aabc05-6928-441f-8494-409e2158b21c"
      },
      "execution_count": 316,
      "outputs": [
        {
          "output_type": "execute_result",
          "data": {
            "text/html": [
              "\n",
              "  <div id=\"df-62fde795-153a-4759-af09-78f8e1a887f1\">\n",
              "    <div class=\"colab-df-container\">\n",
              "      <div>\n",
              "<style scoped>\n",
              "    .dataframe tbody tr th:only-of-type {\n",
              "        vertical-align: middle;\n",
              "    }\n",
              "\n",
              "    .dataframe tbody tr th {\n",
              "        vertical-align: top;\n",
              "    }\n",
              "\n",
              "    .dataframe thead th {\n",
              "        text-align: right;\n",
              "    }\n",
              "</style>\n",
              "<table border=\"1\" class=\"dataframe\">\n",
              "  <thead>\n",
              "    <tr style=\"text-align: right;\">\n",
              "      <th></th>\n",
              "      <th>nickname</th>\n",
              "      <th>solo</th>\n",
              "      <th>team_work</th>\n",
              "    </tr>\n",
              "  </thead>\n",
              "  <tbody>\n",
              "    <tr>\n",
              "      <th>21</th>\n",
              "      <td>Texta</td>\n",
              "      <td>26.59</td>\n",
              "      <td>27.25</td>\n",
              "    </tr>\n",
              "    <tr>\n",
              "      <th>42</th>\n",
              "      <td>wrath</td>\n",
              "      <td>27.88</td>\n",
              "      <td>27.00</td>\n",
              "    </tr>\n",
              "    <tr>\n",
              "      <th>114</th>\n",
              "      <td>Xeppaa</td>\n",
              "      <td>27.75</td>\n",
              "      <td>26.75</td>\n",
              "    </tr>\n",
              "    <tr>\n",
              "      <th>131</th>\n",
              "      <td>trk</td>\n",
              "      <td>27.01</td>\n",
              "      <td>26.50</td>\n",
              "    </tr>\n",
              "    <tr>\n",
              "      <th>185</th>\n",
              "      <td>roeJ</td>\n",
              "      <td>28.98</td>\n",
              "      <td>26.50</td>\n",
              "    </tr>\n",
              "    <tr>\n",
              "      <th>...</th>\n",
              "      <td>...</td>\n",
              "      <td>...</td>\n",
              "      <td>...</td>\n",
              "    </tr>\n",
              "    <tr>\n",
              "      <th>65</th>\n",
              "      <td>hades</td>\n",
              "      <td>21.78</td>\n",
              "      <td>21.75</td>\n",
              "    </tr>\n",
              "    <tr>\n",
              "      <th>2</th>\n",
              "      <td>sh1ro</td>\n",
              "      <td>22.50</td>\n",
              "      <td>20.75</td>\n",
              "    </tr>\n",
              "    <tr>\n",
              "      <th>34</th>\n",
              "      <td>xsepower</td>\n",
              "      <td>20.40</td>\n",
              "      <td>20.25</td>\n",
              "    </tr>\n",
              "    <tr>\n",
              "      <th>20</th>\n",
              "      <td>Jame</td>\n",
              "      <td>20.95</td>\n",
              "      <td>20.00</td>\n",
              "    </tr>\n",
              "    <tr>\n",
              "      <th>9</th>\n",
              "      <td>SENSEi</td>\n",
              "      <td>22.34</td>\n",
              "      <td>20.00</td>\n",
              "    </tr>\n",
              "  </tbody>\n",
              "</table>\n",
              "<p>100 rows × 3 columns</p>\n",
              "</div>\n",
              "      <button class=\"colab-df-convert\" onclick=\"convertToInteractive('df-62fde795-153a-4759-af09-78f8e1a887f1')\"\n",
              "              title=\"Convert this dataframe to an interactive table.\"\n",
              "              style=\"display:none;\">\n",
              "        \n",
              "  <svg xmlns=\"http://www.w3.org/2000/svg\" height=\"24px\"viewBox=\"0 0 24 24\"\n",
              "       width=\"24px\">\n",
              "    <path d=\"M0 0h24v24H0V0z\" fill=\"none\"/>\n",
              "    <path d=\"M18.56 5.44l.94 2.06.94-2.06 2.06-.94-2.06-.94-.94-2.06-.94 2.06-2.06.94zm-11 1L8.5 8.5l.94-2.06 2.06-.94-2.06-.94L8.5 2.5l-.94 2.06-2.06.94zm10 10l.94 2.06.94-2.06 2.06-.94-2.06-.94-.94-2.06-.94 2.06-2.06.94z\"/><path d=\"M17.41 7.96l-1.37-1.37c-.4-.4-.92-.59-1.43-.59-.52 0-1.04.2-1.43.59L10.3 9.45l-7.72 7.72c-.78.78-.78 2.05 0 2.83L4 21.41c.39.39.9.59 1.41.59.51 0 1.02-.2 1.41-.59l7.78-7.78 2.81-2.81c.8-.78.8-2.07 0-2.86zM5.41 20L4 18.59l7.72-7.72 1.47 1.35L5.41 20z\"/>\n",
              "  </svg>\n",
              "      </button>\n",
              "      \n",
              "  <style>\n",
              "    .colab-df-container {\n",
              "      display:flex;\n",
              "      flex-wrap:wrap;\n",
              "      gap: 12px;\n",
              "    }\n",
              "\n",
              "    .colab-df-convert {\n",
              "      background-color: #E8F0FE;\n",
              "      border: none;\n",
              "      border-radius: 50%;\n",
              "      cursor: pointer;\n",
              "      display: none;\n",
              "      fill: #1967D2;\n",
              "      height: 32px;\n",
              "      padding: 0 0 0 0;\n",
              "      width: 32px;\n",
              "    }\n",
              "\n",
              "    .colab-df-convert:hover {\n",
              "      background-color: #E2EBFA;\n",
              "      box-shadow: 0px 1px 2px rgba(60, 64, 67, 0.3), 0px 1px 3px 1px rgba(60, 64, 67, 0.15);\n",
              "      fill: #174EA6;\n",
              "    }\n",
              "\n",
              "    [theme=dark] .colab-df-convert {\n",
              "      background-color: #3B4455;\n",
              "      fill: #D2E3FC;\n",
              "    }\n",
              "\n",
              "    [theme=dark] .colab-df-convert:hover {\n",
              "      background-color: #434B5C;\n",
              "      box-shadow: 0px 1px 3px 1px rgba(0, 0, 0, 0.15);\n",
              "      filter: drop-shadow(0px 1px 2px rgba(0, 0, 0, 0.3));\n",
              "      fill: #FFFFFF;\n",
              "    }\n",
              "  </style>\n",
              "\n",
              "      <script>\n",
              "        const buttonEl =\n",
              "          document.querySelector('#df-62fde795-153a-4759-af09-78f8e1a887f1 button.colab-df-convert');\n",
              "        buttonEl.style.display =\n",
              "          google.colab.kernel.accessAllowed ? 'block' : 'none';\n",
              "\n",
              "        async function convertToInteractive(key) {\n",
              "          const element = document.querySelector('#df-62fde795-153a-4759-af09-78f8e1a887f1');\n",
              "          const dataTable =\n",
              "            await google.colab.kernel.invokeFunction('convertToInteractive',\n",
              "                                                     [key], {});\n",
              "          if (!dataTable) return;\n",
              "\n",
              "          const docLinkHtml = 'Like what you see? Visit the ' +\n",
              "            '<a target=\"_blank\" href=https://colab.research.google.com/notebooks/data_table.ipynb>data table notebook</a>'\n",
              "            + ' to learn more about interactive tables.';\n",
              "          element.innerHTML = '';\n",
              "          dataTable['output_type'] = 'display_data';\n",
              "          await google.colab.output.renderOutput(dataTable, element);\n",
              "          const docLink = document.createElement('div');\n",
              "          docLink.innerHTML = docLinkHtml;\n",
              "          element.appendChild(docLink);\n",
              "        }\n",
              "      </script>\n",
              "    </div>\n",
              "  </div>\n",
              "  "
            ],
            "text/plain": [
              "     nickname  solo  team_work\n",
              "21      Texta 26.59      27.25\n",
              "42      wrath 27.88      27.00\n",
              "114    Xeppaa 27.75      26.75\n",
              "131       trk 27.01      26.50\n",
              "185      roeJ 28.98      26.50\n",
              "..        ...   ...        ...\n",
              "65      hades 21.78      21.75\n",
              "2       sh1ro 22.50      20.75\n",
              "34   xsepower 20.40      20.25\n",
              "20       Jame 20.95      20.00\n",
              "9      SENSEi 22.34      20.00\n",
              "\n",
              "[100 rows x 3 columns]"
            ]
          },
          "metadata": {},
          "execution_count": 316
        }
      ]
    },
    {
      "cell_type": "code",
      "source": [
        "# quanto mais proximo de 0 mais equilibrado é o jogador\n",
        "jogadores_diferenca = df_jogadores['solo'] - df_jogadores['team_work']\n",
        "jogadores_diferenca = jogadores_diferenca.to_frame()\n",
        "jogadores_diferenca = jogadores_diferenca.rename(columns={0: 'diferenca'}, inplace = False)\n",
        "df_jogadores = df_jogadores.join(jogadores_diferenca).sort_values(by=['diferenca'], ascending=False).head(100)"
      ],
      "metadata": {
        "id": "uCQGaHmWkcM8"
      },
      "execution_count": 317,
      "outputs": []
    },
    {
      "cell_type": "code",
      "source": [
        "df_jogadores['solo'].plot.hist(title='solo_work', edgecolor='black', bins = 20) "
      ],
      "metadata": {
        "colab": {
          "base_uri": "https://localhost:8080/",
          "height": 298
        },
        "id": "oXTx0Pq4mtww",
        "outputId": "2ca21470-aed0-42ba-b698-761a387124ee"
      },
      "execution_count": 322,
      "outputs": [
        {
          "output_type": "execute_result",
          "data": {
            "text/plain": [
              "<matplotlib.axes._subplots.AxesSubplot at 0x7fb870d51e90>"
            ]
          },
          "metadata": {},
          "execution_count": 322
        },
        {
          "output_type": "display_data",
          "data": {
            "image/png": "[encoded data removed]",
            "text/plain": [
              "<Figure size 432x288 with 1 Axes>"
            ]
          },
          "metadata": {
            "needs_background": "light"
          }
        }
      ]
    },
    {
      "cell_type": "code",
      "source": [
        "# valores são inversamente proporcionais\n",
        "df_jogadores['team_work'].plot.hist(title='team_work', edgecolor='black', bins = 20) "
      ],
      "metadata": {
        "colab": {
          "base_uri": "https://localhost:8080/",
          "height": 298
        },
        "id": "kVYx5_T-pgZJ",
        "outputId": "66487a2e-b21d-4fc8-83f1-849e96a04b0c"
      },
      "execution_count": 323,
      "outputs": [
        {
          "output_type": "execute_result",
          "data": {
            "text/plain": [
              "<matplotlib.axes._subplots.AxesSubplot at 0x7fb871f572d0>"
            ]
          },
          "metadata": {},
          "execution_count": 323
        },
        {
          "output_type": "display_data",
          "data": {
            "image/png": "[encoded data removed]",
            "text/plain": [
              "<Figure size 432x288 with 1 Axes>"
            ]
          },
          "metadata": {
            "needs_background": "light"
          }
        }
      ]
    },
    {
      "cell_type": "code",
      "source": [
        "df_jogadores['diferenca'].plot.box(grid = True)"
      ],
      "metadata": {
        "colab": {
          "base_uri": "https://localhost:8080/",
          "height": 282
        },
        "id": "Aa_QXiKXorhY",
        "outputId": "157a1049-5430-4a12-bb79-8411a15bc9f1"
      },
      "execution_count": 319,
      "outputs": [
        {
          "output_type": "execute_result",
          "data": {
            "text/plain": [
              "<matplotlib.axes._subplots.AxesSubplot at 0x7fb870d9c290>"
            ]
          },
          "metadata": {},
          "execution_count": 319
        },
        {
          "output_type": "display_data",
          "data": {
            "image/png": "[encoded data removed]",
            "text/plain": [
              "<Figure size 432x288 with 1 Axes>"
            ]
          },
          "metadata": {
            "needs_background": "light"
          }
        }
      ]
    },
    {
      "cell_type": "code",
      "source": [
        ""
      ],
      "metadata": {
        "id": "C5XEfuaoqfTf"
      },
      "execution_count": null,
      "outputs": []
    },
    {
      "cell_type": "markdown",
      "source": [
        "## Quais são os melhores times baseados nas estatísticas de rating individual?\n",
        "\n",
        "Conclusões:\n",
        "\n",
        "* Times com mais de 5 componentes são estão com um excedente de jogadores reserva ou jogadores que passaram pelo time recentemente e ainda possuem registro\n",
        "\n",
        "* Times com menos de 4 componentes são aqueles aonde jogadores não estão na lista ou que perderam seus jogadores recentemente\n",
        "\n",
        "Melhores times:\n",
        "\n",
        "1. Liquid\n",
        "2. Extra Salt\n",
        "3. Heroic\n",
        "4. G2\n",
        "5. MIBR"
      ],
      "metadata": {
        "id": "zpm9ztT-qGPh"
      }
    },
    {
      "cell_type": "code",
      "source": [
        "df_times = pd.DataFrame(lista_times, columns= ['team', 'total_kills', 'headshot_%', 'total_deaths', 'kills/deaths', 'damage/round', 'grenade_dmg/round',\n",
        "                                               'maps_played', 'rounds_played', 'kills/round', 'assists/round', 'deaths/round', 'saved_by_teammate/round',\n",
        "                                               'saved_teammates/round', 'rating'])\n",
        "df_times = df_times[['team','rating']]\n",
        "df_times = df_times.drop_duplicates(subset=['team'])\n",
        "df_times.sort_values(by=['rating'], ascending=False)"
      ],
      "metadata": {
        "colab": {
          "base_uri": "https://localhost:8080/",
          "height": 1000
        },
        "id": "CwHj1_R3qh4s",
        "outputId": "38883da6-0f8c-4bf8-bf45-0474b3e47ff2"
      },
      "execution_count": 332,
      "outputs": [
        {
          "output_type": "execute_result",
          "data": {
            "text/html": [
              "\n",
              "  <div id=\"df-32c3c6e5-d842-4802-aa57-7bbfaaa081ad\">\n",
              "    <div class=\"colab-df-container\">\n",
              "      <div>\n",
              "<style scoped>\n",
              "    .dataframe tbody tr th:only-of-type {\n",
              "        vertical-align: middle;\n",
              "    }\n",
              "\n",
              "    .dataframe tbody tr th {\n",
              "        vertical-align: top;\n",
              "    }\n",
              "\n",
              "    .dataframe thead th {\n",
              "        text-align: right;\n",
              "    }\n",
              "</style>\n",
              "<table border=\"1\" class=\"dataframe\">\n",
              "  <thead>\n",
              "    <tr style=\"text-align: right;\">\n",
              "      <th></th>\n",
              "      <th>team</th>\n",
              "      <th>rating</th>\n",
              "    </tr>\n",
              "  </thead>\n",
              "  <tbody>\n",
              "    <tr>\n",
              "      <th>39</th>\n",
              "      <td>LiquidLiquidLiquidLiquidLiquidLiquidLiquid</td>\n",
              "      <td>7.43</td>\n",
              "    </tr>\n",
              "    <tr>\n",
              "      <th>19</th>\n",
              "      <td>Virtus.proVirtus.proVirtus.proVirtus.proVirtus...</td>\n",
              "      <td>6.62</td>\n",
              "    </tr>\n",
              "    <tr>\n",
              "      <th>58</th>\n",
              "      <td>Extra SaltExtra SaltExtra SaltExtra SaltExtra ...</td>\n",
              "      <td>6.60</td>\n",
              "    </tr>\n",
              "    <tr>\n",
              "      <th>13</th>\n",
              "      <td>G2G2G2G2G2G2</td>\n",
              "      <td>6.48</td>\n",
              "    </tr>\n",
              "    <tr>\n",
              "      <th>76</th>\n",
              "      <td>MIBRMIBRMIBRMIBRMIBRMIBR</td>\n",
              "      <td>6.45</td>\n",
              "    </tr>\n",
              "    <tr>\n",
              "      <th>17</th>\n",
              "      <td>AstralisAstralisAstralisAstralisAstralisAstralis</td>\n",
              "      <td>6.45</td>\n",
              "    </tr>\n",
              "    <tr>\n",
              "      <th>144</th>\n",
              "      <td>HeroicHeroicHeroicHeroicHeroicHeroic</td>\n",
              "      <td>6.43</td>\n",
              "    </tr>\n",
              "    <tr>\n",
              "      <th>7</th>\n",
              "      <td>MOUZMOUZMOUZMOUZMOUZMOUZ</td>\n",
              "      <td>6.40</td>\n",
              "    </tr>\n",
              "    <tr>\n",
              "      <th>1</th>\n",
              "      <td>Natus VincereNatus VincereNatus VincereNatus V...</td>\n",
              "      <td>6.39</td>\n",
              "    </tr>\n",
              "    <tr>\n",
              "      <th>33</th>\n",
              "      <td>SKADESKADESKADESKADESKADESKADE</td>\n",
              "      <td>6.37</td>\n",
              "    </tr>\n",
              "    <tr>\n",
              "      <th>36</th>\n",
              "      <td>FaZeFaZeFaZeFaZeFaZeFaZe</td>\n",
              "      <td>6.36</td>\n",
              "    </tr>\n",
              "    <tr>\n",
              "      <th>21</th>\n",
              "      <td>EntropiqEntropiqEntropiqEntropiqEntropiqEntropiq</td>\n",
              "      <td>6.32</td>\n",
              "    </tr>\n",
              "    <tr>\n",
              "      <th>63</th>\n",
              "      <td>BIGBIGBIGBIGBIGBIG</td>\n",
              "      <td>6.26</td>\n",
              "    </tr>\n",
              "    <tr>\n",
              "      <th>10</th>\n",
              "      <td>NIPNIPNIPNIPNIPNIP</td>\n",
              "      <td>6.22</td>\n",
              "    </tr>\n",
              "    <tr>\n",
              "      <th>124</th>\n",
              "      <td>Wisla KrakowWisla KrakowWisla KrakowWisla Krak...</td>\n",
              "      <td>6.21</td>\n",
              "    </tr>\n",
              "    <tr>\n",
              "      <th>49</th>\n",
              "      <td>ENCEENCEENCEENCEENCEENCE</td>\n",
              "      <td>6.19</td>\n",
              "    </tr>\n",
              "    <tr>\n",
              "      <th>11</th>\n",
              "      <td>00Nation00Nation00Nation00Nation00Nation</td>\n",
              "      <td>5.65</td>\n",
              "    </tr>\n",
              "    <tr>\n",
              "      <th>0</th>\n",
              "      <td>VitalityVitalityVitalityVitalityVitality</td>\n",
              "      <td>5.54</td>\n",
              "    </tr>\n",
              "    <tr>\n",
              "      <th>6</th>\n",
              "      <td>fnaticfnaticfnaticfnaticfnatic</td>\n",
              "      <td>5.52</td>\n",
              "    </tr>\n",
              "    <tr>\n",
              "      <th>2</th>\n",
              "      <td>GambitGambitGambitGambitGambit</td>\n",
              "      <td>5.51</td>\n",
              "    </tr>\n",
              "    <tr>\n",
              "      <th>5</th>\n",
              "      <td>SpiritSpiritSpiritSpiritSpirit</td>\n",
              "      <td>5.40</td>\n",
              "    </tr>\n",
              "    <tr>\n",
              "      <th>66</th>\n",
              "      <td>Party AstronautsParty AstronautsParty Astronau...</td>\n",
              "      <td>5.37</td>\n",
              "    </tr>\n",
              "    <tr>\n",
              "      <th>83</th>\n",
              "      <td>Last DanceLast DanceLast DanceLast DanceLast D...</td>\n",
              "      <td>5.30</td>\n",
              "    </tr>\n",
              "    <tr>\n",
              "      <th>164</th>\n",
              "      <td>GamerLegionGamerLegionGamerLegionGamerLegionGa...</td>\n",
              "      <td>5.26</td>\n",
              "    </tr>\n",
              "    <tr>\n",
              "      <th>156</th>\n",
              "      <td>ECSTATICECSTATICECSTATICECSTATICECSTATIC</td>\n",
              "      <td>5.24</td>\n",
              "    </tr>\n",
              "    <tr>\n",
              "      <th>115</th>\n",
              "      <td>FinestFinestFinestFinestFinest</td>\n",
              "      <td>5.21</td>\n",
              "    </tr>\n",
              "    <tr>\n",
              "      <th>154</th>\n",
              "      <td>MONKEMONKEMONKEMONKEMONKE</td>\n",
              "      <td>5.19</td>\n",
              "    </tr>\n",
              "    <tr>\n",
              "      <th>88</th>\n",
              "      <td>SavageSavageSavageSavageSavage</td>\n",
              "      <td>5.19</td>\n",
              "    </tr>\n",
              "    <tr>\n",
              "      <th>51</th>\n",
              "      <td>ApeksApeksApeksApeksApeks</td>\n",
              "      <td>5.05</td>\n",
              "    </tr>\n",
              "    <tr>\n",
              "      <th>176</th>\n",
              "      <td>SAWSAWSAWSAWSAW</td>\n",
              "      <td>5.03</td>\n",
              "    </tr>\n",
              "    <tr>\n",
              "      <th>15</th>\n",
              "      <td>RenegadesRenegadesRenegadesRenegades</td>\n",
              "      <td>4.63</td>\n",
              "    </tr>\n",
              "    <tr>\n",
              "      <th>8</th>\n",
              "      <td>Eternal FireEternal FireEternal FireEternal Fire</td>\n",
              "      <td>4.50</td>\n",
              "    </tr>\n",
              "    <tr>\n",
              "      <th>22</th>\n",
              "      <td>MOUZ NXTMOUZ NXTMOUZ NXTMOUZ NXT</td>\n",
              "      <td>4.37</td>\n",
              "    </tr>\n",
              "    <tr>\n",
              "      <th>56</th>\n",
              "      <td>NemigaNemigaNemigaNemiga</td>\n",
              "      <td>4.37</td>\n",
              "    </tr>\n",
              "    <tr>\n",
              "      <th>30</th>\n",
              "      <td>K23K23K23K23</td>\n",
              "      <td>4.37</td>\n",
              "    </tr>\n",
              "    <tr>\n",
              "      <th>80</th>\n",
              "      <td>TYLOOTYLOOTYLOOTYLOO</td>\n",
              "      <td>4.36</td>\n",
              "    </tr>\n",
              "    <tr>\n",
              "      <th>14</th>\n",
              "      <td>NKTNKTNKTNKT</td>\n",
              "      <td>4.33</td>\n",
              "    </tr>\n",
              "    <tr>\n",
              "      <th>73</th>\n",
              "      <td>IsurusIsurusIsurusIsurus</td>\n",
              "      <td>4.29</td>\n",
              "    </tr>\n",
              "    <tr>\n",
              "      <th>87</th>\n",
              "      <td>GORILLAZGORILLAZGORILLAZGORILLAZ</td>\n",
              "      <td>4.29</td>\n",
              "    </tr>\n",
              "    <tr>\n",
              "      <th>203</th>\n",
              "      <td>1WIN1WIN1WIN1WIN</td>\n",
              "      <td>4.28</td>\n",
              "    </tr>\n",
              "    <tr>\n",
              "      <th>12</th>\n",
              "      <td>EXTREMUMEXTREMUMEXTREMUMEXTREMUM</td>\n",
              "      <td>4.27</td>\n",
              "    </tr>\n",
              "    <tr>\n",
              "      <th>60</th>\n",
              "      <td>GODSENTGODSENTGODSENTGODSENT</td>\n",
              "      <td>4.27</td>\n",
              "    </tr>\n",
              "    <tr>\n",
              "      <th>94</th>\n",
              "      <td>MAD LionsMAD LionsMAD LionsMAD Lions</td>\n",
              "      <td>4.25</td>\n",
              "    </tr>\n",
              "    <tr>\n",
              "      <th>38</th>\n",
              "      <td>SINNERSSINNERSSINNERSSINNERS</td>\n",
              "      <td>4.24</td>\n",
              "    </tr>\n",
              "    <tr>\n",
              "      <th>27</th>\n",
              "      <td>OGOGOGOG</td>\n",
              "      <td>4.24</td>\n",
              "    </tr>\n",
              "    <tr>\n",
              "      <th>98</th>\n",
              "      <td>ORDERORDERORDERORDER</td>\n",
              "      <td>4.24</td>\n",
              "    </tr>\n",
              "    <tr>\n",
              "      <th>46</th>\n",
              "      <td>LZLZLZLZ</td>\n",
              "      <td>4.22</td>\n",
              "    </tr>\n",
              "    <tr>\n",
              "      <th>44</th>\n",
              "      <td>OrglessOrglessOrglessOrgless</td>\n",
              "      <td>4.22</td>\n",
              "    </tr>\n",
              "    <tr>\n",
              "      <th>70</th>\n",
              "      <td>paiNpaiNpaiNpaiN</td>\n",
              "      <td>4.21</td>\n",
              "    </tr>\n",
              "    <tr>\n",
              "      <th>42</th>\n",
              "      <td>DignitasDignitasDignitasDignitas</td>\n",
              "      <td>4.20</td>\n",
              "    </tr>\n",
              "  </tbody>\n",
              "</table>\n",
              "</div>\n",
              "      <button class=\"colab-df-convert\" onclick=\"convertToInteractive('df-32c3c6e5-d842-4802-aa57-7bbfaaa081ad')\"\n",
              "              title=\"Convert this dataframe to an interactive table.\"\n",
              "              style=\"display:none;\">\n",
              "        \n",
              "  <svg xmlns=\"http://www.w3.org/2000/svg\" height=\"24px\"viewBox=\"0 0 24 24\"\n",
              "       width=\"24px\">\n",
              "    <path d=\"M0 0h24v24H0V0z\" fill=\"none\"/>\n",
              "    <path d=\"M18.56 5.44l.94 2.06.94-2.06 2.06-.94-2.06-.94-.94-2.06-.94 2.06-2.06.94zm-11 1L8.5 8.5l.94-2.06 2.06-.94-2.06-.94L8.5 2.5l-.94 2.06-2.06.94zm10 10l.94 2.06.94-2.06 2.06-.94-2.06-.94-.94-2.06-.94 2.06-2.06.94z\"/><path d=\"M17.41 7.96l-1.37-1.37c-.4-.4-.92-.59-1.43-.59-.52 0-1.04.2-1.43.59L10.3 9.45l-7.72 7.72c-.78.78-.78 2.05 0 2.83L4 21.41c.39.39.9.59 1.41.59.51 0 1.02-.2 1.41-.59l7.78-7.78 2.81-2.81c.8-.78.8-2.07 0-2.86zM5.41 20L4 18.59l7.72-7.72 1.47 1.35L5.41 20z\"/>\n",
              "  </svg>\n",
              "      </button>\n",
              "      \n",
              "  <style>\n",
              "    .colab-df-container {\n",
              "      display:flex;\n",
              "      flex-wrap:wrap;\n",
              "      gap: 12px;\n",
              "    }\n",
              "\n",
              "    .colab-df-convert {\n",
              "      background-color: #E8F0FE;\n",
              "      border: none;\n",
              "      border-radius: 50%;\n",
              "      cursor: pointer;\n",
              "      display: none;\n",
              "      fill: #1967D2;\n",
              "      height: 32px;\n",
              "      padding: 0 0 0 0;\n",
              "      width: 32px;\n",
              "    }\n",
              "\n",
              "    .colab-df-convert:hover {\n",
              "      background-color: #E2EBFA;\n",
              "      box-shadow: 0px 1px 2px rgba(60, 64, 67, 0.3), 0px 1px 3px 1px rgba(60, 64, 67, 0.15);\n",
              "      fill: #174EA6;\n",
              "    }\n",
              "\n",
              "    [theme=dark] .colab-df-convert {\n",
              "      background-color: #3B4455;\n",
              "      fill: #D2E3FC;\n",
              "    }\n",
              "\n",
              "    [theme=dark] .colab-df-convert:hover {\n",
              "      background-color: #434B5C;\n",
              "      box-shadow: 0px 1px 3px 1px rgba(0, 0, 0, 0.15);\n",
              "      filter: drop-shadow(0px 1px 2px rgba(0, 0, 0, 0.3));\n",
              "      fill: #FFFFFF;\n",
              "    }\n",
              "  </style>\n",
              "\n",
              "      <script>\n",
              "        const buttonEl =\n",
              "          document.querySelector('#df-32c3c6e5-d842-4802-aa57-7bbfaaa081ad button.colab-df-convert');\n",
              "        buttonEl.style.display =\n",
              "          google.colab.kernel.accessAllowed ? 'block' : 'none';\n",
              "\n",
              "        async function convertToInteractive(key) {\n",
              "          const element = document.querySelector('#df-32c3c6e5-d842-4802-aa57-7bbfaaa081ad');\n",
              "          const dataTable =\n",
              "            await google.colab.kernel.invokeFunction('convertToInteractive',\n",
              "                                                     [key], {});\n",
              "          if (!dataTable) return;\n",
              "\n",
              "          const docLinkHtml = 'Like what you see? Visit the ' +\n",
              "            '<a target=\"_blank\" href=https://colab.research.google.com/notebooks/data_table.ipynb>data table notebook</a>'\n",
              "            + ' to learn more about interactive tables.';\n",
              "          element.innerHTML = '';\n",
              "          dataTable['output_type'] = 'display_data';\n",
              "          await google.colab.output.renderOutput(dataTable, element);\n",
              "          const docLink = document.createElement('div');\n",
              "          docLink.innerHTML = docLinkHtml;\n",
              "          element.appendChild(docLink);\n",
              "        }\n",
              "      </script>\n",
              "    </div>\n",
              "  </div>\n",
              "  "
            ],
            "text/plain": [
              "                                                  team  rating\n",
              "39          LiquidLiquidLiquidLiquidLiquidLiquidLiquid    7.43\n",
              "19   Virtus.proVirtus.proVirtus.proVirtus.proVirtus...    6.62\n",
              "58   Extra SaltExtra SaltExtra SaltExtra SaltExtra ...    6.60\n",
              "13                                        G2G2G2G2G2G2    6.48\n",
              "76                            MIBRMIBRMIBRMIBRMIBRMIBR    6.45\n",
              "17    AstralisAstralisAstralisAstralisAstralisAstralis    6.45\n",
              "144               HeroicHeroicHeroicHeroicHeroicHeroic    6.43\n",
              "7                             MOUZMOUZMOUZMOUZMOUZMOUZ    6.40\n",
              "1    Natus VincereNatus VincereNatus VincereNatus V...    6.39\n",
              "33                      SKADESKADESKADESKADESKADESKADE    6.37\n",
              "36                            FaZeFaZeFaZeFaZeFaZeFaZe    6.36\n",
              "21    EntropiqEntropiqEntropiqEntropiqEntropiqEntropiq    6.32\n",
              "63                                  BIGBIGBIGBIGBIGBIG    6.26\n",
              "10                                  NIPNIPNIPNIPNIPNIP    6.22\n",
              "124  Wisla KrakowWisla KrakowWisla KrakowWisla Krak...    6.21\n",
              "49                            ENCEENCEENCEENCEENCEENCE    6.19\n",
              "11            00Nation00Nation00Nation00Nation00Nation    5.65\n",
              "0             VitalityVitalityVitalityVitalityVitality    5.54\n",
              "6                       fnaticfnaticfnaticfnaticfnatic    5.52\n",
              "2                       GambitGambitGambitGambitGambit    5.51\n",
              "5                       SpiritSpiritSpiritSpiritSpirit    5.40\n",
              "66   Party AstronautsParty AstronautsParty Astronau...    5.37\n",
              "83   Last DanceLast DanceLast DanceLast DanceLast D...    5.30\n",
              "164  GamerLegionGamerLegionGamerLegionGamerLegionGa...    5.26\n",
              "156           ECSTATICECSTATICECSTATICECSTATICECSTATIC    5.24\n",
              "115                     FinestFinestFinestFinestFinest    5.21\n",
              "154                          MONKEMONKEMONKEMONKEMONKE    5.19\n",
              "88                      SavageSavageSavageSavageSavage    5.19\n",
              "51                           ApeksApeksApeksApeksApeks    5.05\n",
              "176                                    SAWSAWSAWSAWSAW    5.03\n",
              "15                RenegadesRenegadesRenegadesRenegades    4.63\n",
              "8     Eternal FireEternal FireEternal FireEternal Fire    4.50\n",
              "22                    MOUZ NXTMOUZ NXTMOUZ NXTMOUZ NXT    4.37\n",
              "56                            NemigaNemigaNemigaNemiga    4.37\n",
              "30                                        K23K23K23K23    4.37\n",
              "80                                TYLOOTYLOOTYLOOTYLOO    4.36\n",
              "14                                        NKTNKTNKTNKT    4.33\n",
              "73                            IsurusIsurusIsurusIsurus    4.29\n",
              "87                    GORILLAZGORILLAZGORILLAZGORILLAZ    4.29\n",
              "203                                   1WIN1WIN1WIN1WIN    4.28\n",
              "12                    EXTREMUMEXTREMUMEXTREMUMEXTREMUM    4.27\n",
              "60                        GODSENTGODSENTGODSENTGODSENT    4.27\n",
              "94                MAD LionsMAD LionsMAD LionsMAD Lions    4.25\n",
              "38                        SINNERSSINNERSSINNERSSINNERS    4.24\n",
              "27                                            OGOGOGOG    4.24\n",
              "98                                ORDERORDERORDERORDER    4.24\n",
              "46                                            LZLZLZLZ    4.22\n",
              "44                        OrglessOrglessOrglessOrgless    4.22\n",
              "70                                    paiNpaiNpaiNpaiN    4.21\n",
              "42                    DignitasDignitasDignitasDignitas    4.20"
            ]
          },
          "metadata": {},
          "execution_count": 332
        }
      ]
    },
    {
      "cell_type": "code",
      "source": [
        "df_times['rating'].plot.box(grid = True)"
      ],
      "metadata": {
        "colab": {
          "base_uri": "https://localhost:8080/",
          "height": 282
        },
        "id": "6rwxrlyXtJN6",
        "outputId": "c9c39f7f-df36-4b7f-cfd3-460315373c67"
      },
      "execution_count": 334,
      "outputs": [
        {
          "output_type": "execute_result",
          "data": {
            "text/plain": [
              "<matplotlib.axes._subplots.AxesSubplot at 0x7fb870ab9c50>"
            ]
          },
          "metadata": {},
          "execution_count": 334
        },
        {
          "output_type": "display_data",
          "data": {
            "image/png": "[encoded data removed]",
            "text/plain": [
              "<Figure size 432x288 with 1 Axes>"
            ]
          },
          "metadata": {
            "needs_background": "light"
          }
        }
      ]
    }
  ]
}
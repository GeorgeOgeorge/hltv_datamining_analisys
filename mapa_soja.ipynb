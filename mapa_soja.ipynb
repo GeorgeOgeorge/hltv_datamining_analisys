{
  "nbformat": 4,
  "nbformat_minor": 0,
  "metadata": {
    "colab": {
      "name": "mapa_soja.ipynb",
      "provenance": [],
      "authorship_tag": "ABX9TyPaP4tG/bFdj0Dourc+SuzG",
      "include_colab_link": true
    },
    "kernelspec": {
      "name": "python3",
      "display_name": "Python 3"
    },
    "language_info": {
      "name": "python"
    }
  },
  "cells": [
    {
      "cell_type": "markdown",
      "metadata": {
        "id": "view-in-github",
        "colab_type": "text"
      },
      "source": [
        "<a href=\"https://colab.research.google.com/github/GeorgeOgeorge/hltv_datamining_analisys/blob/master/mapa_soja.ipynb\" target=\"_parent\"><img src=\"https://colab.research.google.com/assets/colab-badge.svg\" alt=\"Open In Colab\"/></a>"
      ]
    },
    {
      "cell_type": "code",
      "execution_count": null,
      "metadata": {
        "id": "QElzhxlKB_WE"
      },
      "outputs": [],
      "source": [
        ""
      ]
    }
  ]
}